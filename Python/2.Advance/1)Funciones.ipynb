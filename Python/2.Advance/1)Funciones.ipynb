{
 "cells": [
  {
   "cell_type": "markdown",
   "metadata": {},
   "source": [
    "## function syntax\n"
   ]
  },
  {
   "cell_type": "code",
   "execution_count": null,
   "metadata": {},
   "outputs": [],
   "source": [
    "def greet():\n",
    "    print(\"Hello user :)\")\n",
    "greet()"
   ]
  },
  {
   "cell_type": "code",
   "execution_count": null,
   "metadata": {},
   "outputs": [],
   "source": [
    "def greet(name):\n",
    "    print(f\"Hello {name}\")\n",
    "greet(\"luis\")\n"
   ]
  },
  {
   "cell_type": "code",
   "execution_count": null,
   "metadata": {},
   "outputs": [],
   "source": [
    "def say_hello():\n",
    "    print(\"Hello my frined :) !\")\n",
    "\n",
    "say_hello()"
   ]
  },
  {
   "cell_type": "markdown",
   "metadata": {},
   "source": [
    "## Parameters"
   ]
  },
  {
   "cell_type": "code",
   "execution_count": null,
   "metadata": {},
   "outputs": [],
   "source": [
    "def greeting(name):  # name is a {parameter}\n",
    "    print(f\"Hello {name}. Nice to see you again\")\n",
    "\n",
    "greeting(\"Luis\")   # inside the ( \"luis \") is the argument"
   ]
  },
  {
   "cell_type": "code",
   "execution_count": null,
   "metadata": {},
   "outputs": [],
   "source": [
    "def suma(a, b):\n",
    "    return a + b\n",
    "suma(10,20)"
   ]
  },
  {
   "cell_type": "code",
   "execution_count": null,
   "metadata": {},
   "outputs": [],
   "source": [
    "def calculate_rectagul(base, high):\n",
    "    return base * high\n",
    "calculate_rectagul(3,3)"
   ]
  },
  {
   "cell_type": "code",
   "execution_count": null,
   "metadata": {},
   "outputs": [],
   "source": [
    "def importlist(lista):\n",
    "    return lista\n",
    "\n",
    "my_list = [1, 2, 4, 5,5]\n",
    "print(importlist(my_list))"
   ]
  },
  {
   "cell_type": "markdown",
   "metadata": {},
   "source": [
    "## Double parameters"
   ]
  },
  {
   "cell_type": "code",
   "execution_count": null,
   "metadata": {},
   "outputs": [],
   "source": [
    "def user_name(user, name):\n",
    "    print(f\"The user name is: '{user}' and the real name is '{name}'\")\n",
    "\n",
    "user_name(\"Damarta\", \"Luis\")"
   ]
  },
  {
   "cell_type": "code",
   "execution_count": null,
   "metadata": {},
   "outputs": [],
   "source": [
    "def show_info(city, country):\n",
    "    print(f\"{city} is in {country}\")\n",
    "\n",
    "show_info(\"Mallorca\", \"Spain\")"
   ]
  },
  {
   "cell_type": "code",
   "execution_count": null,
   "metadata": {},
   "outputs": [],
   "source": [
    "def employe(job, name):\n",
    "    print(f\"My name is {name}, and i am {job}.\")\n",
    "\n",
    "employe(name=\"Luis\", job= \"business owner\")"
   ]
  },
  {
   "cell_type": "code",
   "execution_count": null,
   "metadata": {},
   "outputs": [],
   "source": [
    "def avatar(name, age=10):\n",
    "    print(f\"The avatar name is {name} and is {age} years old.\")\n",
    "\n",
    "avatar()\n"
   ]
  },
  {
   "cell_type": "code",
   "execution_count": null,
   "metadata": {},
   "outputs": [],
   "source": [
    "def doggy_name(name1, name2=\"Kai\"):\n",
    "    print(f\"The name of my doggs are {name1} and {name2}\")\n",
    "\n",
    "doggy_name(\"Venus\")"
   ]
  },
  {
   "cell_type": "code",
   "execution_count": null,
   "metadata": {},
   "outputs": [],
   "source": [
    "def user(age, name):\n",
    "    print(f\"My name is {name} and i'm {age} years old.\")\n",
    "\n",
    "user(name=\"Luis\", age=29)"
   ]
  },
  {
   "cell_type": "markdown",
   "metadata": {},
   "source": [
    "## Math operation with 2 parameters"
   ]
  },
  {
   "cell_type": "code",
   "execution_count": null,
   "metadata": {},
   "outputs": [],
   "source": [
    "def add(a, b):\n",
    "    total = a + b\n",
    "\n",
    "add(10,2)"
   ]
  },
  {
   "cell_type": "code",
   "execution_count": null,
   "metadata": {},
   "outputs": [],
   "source": [
    "def Add (x, z):\n",
    "    return x + z\n",
    "\n",
    "total = Add(4, 4)\n",
    "print(total)"
   ]
  },
  {
   "cell_type": "code",
   "execution_count": null,
   "metadata": {},
   "outputs": [],
   "source": [
    "def add(a, b):\n",
    "    total = a+b\n",
    "    return total\n",
    "\n",
    "add(10,2)"
   ]
  },
  {
   "cell_type": "code",
   "execution_count": null,
   "metadata": {},
   "outputs": [],
   "source": [
    "def Multiply(a,b):\n",
    "    return a * b\n",
    "\n",
    "def Division(a, b):\n",
    "    return a / b\n",
    "\n",
    "total_multiply = Multiply(4.33, 7)\n",
    "total_division = Division(16, 4)\n",
    "\n",
    "print(f\"- One month have: {total_multiply} days.\")\n",
    "print(f\"- 16 Weeks have: {total_division} month.\")\n"
   ]
  },
  {
   "cell_type": "markdown",
   "metadata": {},
   "source": [
    "## function with loop + list"
   ]
  },
  {
   "cell_type": "code",
   "execution_count": null,
   "metadata": {},
   "outputs": [],
   "source": [
    "def loop_list(list):\n",
    "    for i in list:\n",
    "        print(i)\n",
    "my_list = [1,2,34,5,6]\n",
    "loop_list(my_list)"
   ]
  },
  {
   "cell_type": "code",
   "execution_count": null,
   "metadata": {},
   "outputs": [],
   "source": [
    "def show_items(my_list):\n",
    "    return my_list\n",
    "\n",
    "numbers = [2,4,8,16,32,64]\n",
    "result = show_items(numbers)\n",
    "print(result)"
   ]
  },
  {
   "cell_type": "code",
   "execution_count": null,
   "metadata": {},
   "outputs": [],
   "source": [
    "def show_items(my_list):\n",
    "    for item in my_list:\n",
    "        print(item)\n",
    "    \n",
    "numbers = [2,20, 200, 2000]\n",
    "show_items(numbers)"
   ]
  },
  {
   "cell_type": "markdown",
   "metadata": {},
   "source": [
    "## Functions with conditionals"
   ]
  },
  {
   "cell_type": "code",
   "execution_count": null,
   "metadata": {},
   "outputs": [],
   "source": [
    "def even_number(n):\n",
    "    if n%2 ==0:\n",
    "        print(f\"the number is: {n} even\")\n",
    "    else:\n",
    "        print(f\"the number is: {n} odd\")\n",
    "\n",
    "even_number(12)\n",
    "even_number(11)"
   ]
  },
  {
   "cell_type": "markdown",
   "metadata": {},
   "source": [
    "## Functions with Loop + conditionals"
   ]
  },
  {
   "cell_type": "code",
   "execution_count": null,
   "metadata": {},
   "outputs": [],
   "source": [
    "def get_numbers(my_list):\n",
    "    for num in my_list:\n",
    "        if num % 2 == 0:\n",
    "            print(f\"{num} is even\")\n",
    "        else:\n",
    "            continue\n",
    "\n",
    "numbers = [1,2,3,4,5,6]\n",
    "get_numbers(numbers)"
   ]
  },
  {
   "cell_type": "code",
   "execution_count": null,
   "metadata": {},
   "outputs": [],
   "source": [
    "def get_number(mylist):\n",
    "    for num in my_list:\n",
    "        if num % 2 ==0:\n",
    "            print(f\"{num} is even\")\n",
    "        else:\n",
    "            print(f\"{num} is odd.\")\n",
    "\n",
    "numbers = [1 ,34, 45, 60]\n",
    "get_number(numbers)"
   ]
  },
  {
   "cell_type": "code",
   "execution_count": null,
   "metadata": {},
   "outputs": [],
   "source": [
    "def get_even_numbers(my_list): # Creates a function that takes a list.\n",
    "    \"\"\"Return a list of even numbers from the input list.\"\"\"\n",
    "    evens_number = []      # Create empty list to store only even numbers\n",
    "    for num in my_list:  # Loop through each number in the input list\n",
    "        if num % 2 ==0:     # check if number is even \n",
    "            evens_number.append(num)   # Add even number to the empty list\n",
    "    return evens_number                # Return the final list\n",
    "\n",
    "numbers = [7,14,21,24,28,29]\n",
    "even_number2 = get_even_numbers(numbers)      # Saves the result of the function into a variable called even.\n",
    "print(\"Even numbers: \", even_number2)    # Print the even numbers"
   ]
  },
  {
   "cell_type": "code",
   "execution_count": null,
   "metadata": {},
   "outputs": [],
   "source": [
    "def get_even_numbers(my_list):\n",
    "    \"\"\"Ask the user for numbers and make a list of even numbers.\"\"\"\n",
    "    #1) create the funtion\n",
    "    evens = [] # Create a empty list to store the even number\n",
    "    for num in my_list: # loop through each number in the input list\n",
    "        if num % 2 == 0: # if the number is divisible by 2 (%) it's even -> so add it to evens\n",
    "            evens.append(num)\n",
    "    return evens # Return the final list if evn numbers\n",
    "\n",
    "#2) Create an empty list to store numbers\n",
    "numbers = []\n",
    "\n",
    "#3) Ask the user for input in a loop\n",
    "while True:\n",
    "    user_input = input(\"Enter 5 numbers (and type 'done' to finish): \")\n",
    "    # Check if user wants to stop\n",
    "    if user_input.lower() == \"done\":\n",
    "        break\n",
    "    # Validate the input\n",
    "    if user_input.isdigit():\n",
    "        numbers.append(int(user_input))\n",
    "    else:\n",
    "        print(\"Please Enter a valid number.\")\n",
    "\n",
    "#4) Get even numbers using the function\n",
    "even_numbers = get_even_numbers(numbers)\n",
    "\n",
    "#5) Show the result\n",
    "print(\"Even numbers: \", even_numbers)"
   ]
  },
  {
   "cell_type": "code",
   "execution_count": null,
   "metadata": {},
   "outputs": [],
   "source": [
    "def get_odd_numbers(my_list):\n",
    "    \"\"\"Function return only the odd numbers from a list.\"\"\"\n",
    "    odds_numbers = []\n",
    "    for num in my_list:\n",
    "        if num % 2 !=0:\n",
    "            odds_numbers.append(num)\n",
    "        else:\n",
    "            pass\n",
    "    return odds_numbers\n",
    "\n",
    "numbers = []\n",
    "\n",
    "while True:\n",
    "    user_input = input(\"Introduce a number (or type 'done' to finish): \")\n",
    "    if user_input.lower() == \"done\":\n",
    "        break\n",
    "    if user_input.isdigit():\n",
    "        numbers.append(int(user_input))\n",
    "    else:\n",
    "        print(\"Invalid input. Please enter a valid number\")\n",
    "\n",
    "odd_number = get_odd_numbers(numbers)\n",
    "\n",
    "print(\"Odd numbers: \", odd_number)"
   ]
  },
  {
   "cell_type": "code",
   "execution_count": null,
   "metadata": {},
   "outputs": [],
   "source": [
    "def get_odd_numbers(my_list):\n",
    "    \"\"\"Return  number form a list that are odd\"\"\"\n",
    "    odd_numbers = []\n",
    "    for num in my_list:\n",
    "        if num % 2 != 0:\n",
    "            odd_numbers.append(num)\n",
    "        else:\n",
    "            pass\n",
    "    return odd_numbers\n",
    "\n",
    "numbers = []\n",
    "\n",
    "while True:\n",
    "    user_input = input(\"Enter a number (or type 'done' to finish): \")\n",
    "    \n",
    "    if user_input.lower() == 'done':\n",
    "        break\n",
    "    if user_input.isdigit():\n",
    "        numbers.append(int(user_input))\n",
    "    else:\n",
    "        print(\"Please enter a valid number\")\n",
    "\n",
    "odd_number = get_odd_numbers(numbers)\n",
    "print(\"Odd numbers: \", odd_number)"
   ]
  },
  {
   "cell_type": "markdown",
   "metadata": {},
   "source": [
    "## Return List"
   ]
  },
  {
   "cell_type": "code",
   "execution_count": null,
   "metadata": {},
   "outputs": [],
   "source": [
    "def SupermarketList():\n",
    "    return [\"tomato\", \"chiken\", \"bef\"]\n",
    "\n",
    "jumbo = SupermarketList()\n",
    "print(jumbo[1:4])"
   ]
  },
  {
   "cell_type": "code",
   "execution_count": null,
   "metadata": {},
   "outputs": [],
   "source": [
    "def double_numbers(numbers):\n",
    "    result = []\n",
    "    for num in numbers:\n",
    "        result.append(num*2)\n",
    "    return result\n",
    "\n",
    "my_list = [1,2,3,4,5]\n",
    "doubled = double_numbers(my_list)\n",
    "print(doubled)"
   ]
  },
  {
   "cell_type": "code",
   "execution_count": null,
   "metadata": {},
   "outputs": [],
   "source": [
    "def get_positeve_number(number):\n",
    "    positive = []\n",
    "    for num in number:\n",
    "        if num > 0:\n",
    "            positive.append(num)\n",
    "        else:\n",
    "            pass\n",
    "    return positive\n",
    "\n",
    "my_list = [-1,1,-2,2,-3,3]\n",
    "positive = get_positeve_number(my_list)\n",
    "print(positive)"
   ]
  },
  {
   "cell_type": "code",
   "execution_count": null,
   "metadata": {},
   "outputs": [],
   "source": [
    "def filter_words(characters):\n",
    "    word = []\n",
    "    for char in characters:\n",
    "        if len(char) > 3:\n",
    "            word.append(char)\n",
    "    return word\n",
    "\n",
    "words = [\"hi\", \"hello\", \"he\", \"Luis\"]\n",
    "filtered = filter_words(words)\n",
    "print(filtered)"
   ]
  },
  {
   "cell_type": "markdown",
   "metadata": {},
   "source": [
    "## Return Numbe"
   ]
  },
  {
   "cell_type": "code",
   "execution_count": null,
   "metadata": {},
   "outputs": [],
   "source": [
    "def Square():\n",
    "    n = int(input(\"Introduce the number to square: \"))\n",
    "    return n * n\n",
    "\n",
    "total_square = Square()\n",
    "print(total_square)"
   ]
  },
  {
   "cell_type": "code",
   "execution_count": null,
   "metadata": {},
   "outputs": [],
   "source": [
    "def Substract(a, b):\n",
    "    return a - b\n",
    "\n",
    "operation = Substract(5, 3)\n",
    "print(f\"The result is: {operation}\")"
   ]
  },
  {
   "cell_type": "code",
   "execution_count": null,
   "metadata": {},
   "outputs": [],
   "source": [
    "def substract():\n",
    "    \"\"\" Ask for two numbers and return their difference. \"\"\"\n",
    "    n1 = int(input(\"Introduce the first number: \"))\n",
    "    n2 = int(input(\"Introduce the second number: \"))\n",
    "    return n1 - n2\n",
    "\n",
    "result = substract()\n",
    "print(f\"The result is: {result}\")"
   ]
  },
  {
   "cell_type": "code",
   "execution_count": null,
   "metadata": {},
   "outputs": [],
   "source": [
    "def square_evens(numbers):\n",
    "    result = []\n",
    "    for num in numbers:\n",
    "        if num % 2 == 0:\n",
    "            result.append(num**2)\n",
    "    return result\n",
    "\n",
    "my_nums = [1,2,3,4,5,6,7]\n",
    "output = square_evens(my_nums)\n",
    "print(output)"
   ]
  },
  {
   "cell_type": "markdown",
   "metadata": {},
   "source": [
    "## Return String"
   ]
  },
  {
   "cell_type": "code",
   "execution_count": null,
   "metadata": {},
   "outputs": [],
   "source": [
    "def greeting(name):\n",
    "    return f\"Hello, {name}\"\n",
    "\n",
    "message = greeting(\"Luis\")\n",
    "print(message)"
   ]
  },
  {
   "cell_type": "code",
   "execution_count": null,
   "metadata": {},
   "outputs": [],
   "source": [
    "def greeting():\n",
    "    \"\"\"Ask the user his name, and greet if input is valid.\"\"\"\n",
    "    name = input(\"Introduce your name: \").strip()\n",
    "\n",
    "    if not name:\n",
    "        return \"You did't enter a name!\"\n",
    "    return f\"Hello {name.title()}, nice to see you again.\"\n",
    "\n",
    "message = greeting()\n",
    "print(message)"
   ]
  },
  {
   "cell_type": "code",
   "execution_count": null,
   "metadata": {},
   "outputs": [],
   "source": [
    "def greeting(name): # Best option\n",
    "    if not name:\n",
    "        return \"Introduce a name.\"\n",
    "    return f\"Hello {name.title()}, nice to see you again.\"\n",
    "\n",
    "user_name = input(\"Introduce your name: \").strip()\n",
    "message = greeting(user_name)\n",
    "print(message)"
   ]
  },
  {
   "cell_type": "code",
   "execution_count": null,
   "metadata": {},
   "outputs": [],
   "source": [
    "def greeting(name):#Option 2\n",
    "    return f\"Hello {name.titlte()}, nice to see you again\"\n",
    "\n",
    "user_name = input(\"Introduce your name: \").strip()\n",
    "msg = greeting(user_name)\n",
    "print(msg)"
   ]
  },
  {
   "cell_type": "code",
   "execution_count": null,
   "metadata": {},
   "outputs": [],
   "source": [
    "def describe_pet(animal, name):\n",
    "    return f\"I have two {animal} named {name}.\"\n",
    "\n",
    "sentence = describe_pet(\"dogs\", \"Kai and venus\")\n",
    "print(sentence)"
   ]
  },
  {
   "cell_type": "markdown",
   "metadata": {},
   "source": [
    "## Function that return another function."
   ]
  },
  {
   "cell_type": "code",
   "execution_count": null,
   "metadata": {},
   "outputs": [],
   "source": [
    "def greeting():\n",
    "    \"\"\"Function that return other function\"\"\"\n",
    "    def say_hello():\n",
    "        return \"Hello\"\n",
    "    return say_hello\n",
    "\n",
    "hello_user = greeting()\n",
    "print(hello_user())"
   ]
  },
  {
   "cell_type": "code",
   "execution_count": null,
   "metadata": {},
   "outputs": [],
   "source": [
    "def greet():\n",
    "    def say_hello():\n",
    "        return \"Hello!\"\n",
    "    return say_hello\n",
    "\n",
    "hello_func = greet()\n",
    "print(hello_func())  # ➜ Hello!"
   ]
  },
  {
   "cell_type": "code",
   "execution_count": null,
   "metadata": {},
   "outputs": [],
   "source": [
    "def greeting(): # this is your main function that returns ither functions\n",
    "    \"\"\"Returns two functions\"\"\"\n",
    "    def say_hello(): #Define two inner functions\n",
    "        return \"Hello sir.\"\n",
    "    def say_goodbye(): \n",
    "        return \"Good bye sir.\"\n",
    "    return say_hello, say_goodbye # You're returning the function themselves, not the result -- so you can run them later.\n",
    "\n",
    "hello_user, bye_user = greeting()  # You can call them now using  'hello_user()'  and  'bye_user()'\n",
    "\n",
    "print(f\"{hello_user()} How is going?\") # you need to use ()\n",
    "print(bye_user())"
   ]
  },
  {
   "cell_type": "markdown",
   "metadata": {},
   "source": [
    "## Lambda Function"
   ]
  },
  {
   "cell_type": "code",
   "execution_count": null,
   "metadata": {},
   "outputs": [],
   "source": [
    "nums = [1,2,3,4,5]\n",
    "squares = list(map(lambda x: x ** 2, nums))"
   ]
  },
  {
   "cell_type": "code",
   "execution_count": null,
   "metadata": {},
   "outputs": [],
   "source": [
    "lambda parameters: expression\n",
    "\n",
    "#lambda -> creates an anonymous function\n",
    "# a,b -> parameters(like in def)\n",
    "# a+b -> Expression (what to return)\n",
    "\n",
    "# automatically returns the result of the expresion - you don't use return."
   ]
  },
  {
   "cell_type": "code",
   "execution_count": null,
   "metadata": {},
   "outputs": [],
   "source": [
    "add = lambda a, b: a + b\n",
    "print(add(5,3))"
   ]
  },
  {
   "cell_type": "code",
   "execution_count": null,
   "metadata": {},
   "outputs": [],
   "source": [
    "multiple = lambda a,b: a*b\n",
    "print(multiple(2,4))"
   ]
  },
  {
   "cell_type": "code",
   "execution_count": null,
   "metadata": {},
   "outputs": [],
   "source": [
    "numbers = [1,2,3,4,5]\n",
    "doubled = list(map(lambda x: x*2, numbers)) \n",
    "print(\"Doubled: \", doubled)\n",
    "\n",
    "# lambda x: x*2 -> lambda function that multiplies input by 2\n",
    "# map(lambda, numbers) ->  applies the lambda to each number in the list."
   ]
  },
  {
   "cell_type": "code",
   "execution_count": null,
   "metadata": {},
   "outputs": [],
   "source": [
    "def multipler(factor):\n",
    "    \"\"\"Create custom functions on the fly\"\"\"\n",
    "    return lambda x: x * factor # Creates a multplier using the factor\n",
    "\n",
    "double = multipler(2)\n",
    "triple = multipler(3)\n",
    "\n",
    "print(double(5))\n",
    "print(triple(5))"
   ]
  },
  {
   "cell_type": "code",
   "execution_count": null,
   "metadata": {},
   "outputs": [],
   "source": [
    "def apply_operation(numbers, operation):\n",
    "    \"\"\"Use a lambda as a parameter inside a function.\"\"\"\n",
    "    return [operation(num)for num in numbers]   # we loop through each  number, apply the function (operation) to it, and build a new list.\n",
    "\n",
    "nums = [1,2,3]\n",
    "result = apply_operation(nums, lambda x : x ** 2)\n",
    "print(result)\n",
    "\n",
    "# what we want to do?\n",
    "    # create a function called apply_operation() that takes:\n",
    "        #- a list of numbers\n",
    "        #- a lambda function as an argument"
   ]
  },
  {
   "cell_type": "code",
   "execution_count": null,
   "metadata": {},
   "outputs": [],
   "source": [
    "def apply_operation(Numbers, Operation): # two parameters: numbers(a list of numbers [1,2,3]) and operation(a function we want to apply to each numbers. in this case, lambda)\n",
    "    \"\"\"Creates a function that takes a list and add 5 to each item usong a lambda.\"\"\"\n",
    "    return [Operation(num)for num in Numbers] \n",
    "        # list comprehension.\n",
    "        # loop through each num in the list numbers.\n",
    "        # operation(num) applies the function to num.\n",
    "\n",
    "nums = [10,20,30]\n",
    "\n",
    "result = apply_operation(nums, lambda x: x + 5 ) # We call the function apply_operation, and: (pass the list nums and pass a lambda function lambda x:x+5 that add 5 to each element.)\n",
    "print(result)"
   ]
  },
  {
   "cell_type": "code",
   "execution_count": null,
   "metadata": {},
   "outputs": [],
   "source": [
    "def convert_celsius_fahrenheit(temps, operation): # temps = list ; operation = function\n",
    "    \"\"\"create a function that converts a list of Celsius temps to Fahrenheit.\"\"\"\n",
    "    return [operation(t) for t in temps]\n",
    "\n",
    "#Formula: F = (C x 9/5)+ 32\n",
    "celsius = [0,18,25,32]\n",
    "fahrenheit = convert_celsius_fahrenheit(celsius, lambda c : (c * (9/5)+32))\n",
    "print(fahrenheit)"
   ]
  },
  {
   "cell_type": "code",
   "execution_count": null,
   "metadata": {},
   "outputs": [],
   "source": [
    "\"\"\"filter postive number\"\"\"\n",
    "numbers = [-5,-3,-2,0,1,2,3]\n",
    "positive = list(filter(lambda x:x > 0, numbers)) # only keep x if it's greater than 0 ;   # filter(): gives back only the values where the lambda is True   # list(): converts the results from a filter objects to a list.\n",
    "print(positive)"
   ]
  },
  {
   "cell_type": "code",
   "execution_count": null,
   "metadata": {},
   "outputs": [],
   "source": [
    "def greeting():\n",
    "    \"\"\"Returns a dictionary of greeting action using lambda functions\"\"\"\n",
    "    return {    #Inside the function, you return dictionary with two key-value pairs.\n",
    "        \"hello\": lambda: \"Hello sir.\", # \"hello\" is a lambda function -> a quick function\n",
    "        \"bye\": lambda: \"Good bye sir.\" # You're returning the function themselves\n",
    "    }\n",
    "\n",
    "g = greeting() # You're storing the returned dictionary inside a variable g.\n",
    "\n",
    "print(g[\"hello\"]()) # g[\"hello\"] gives you the lambda function.\n",
    "print(g[\"bye\"]())   # g[\"bye\"]() calls the lambda and return."
   ]
  },
  {
   "cell_type": "code",
   "execution_count": null,
   "metadata": {},
   "outputs": [],
   "source": [
    "def greeting_use():\n",
    "    \"\"\"Return a dictionary with lambda functions as values and then call these functions using dictionary keys like 'hello' or 'bye' \"\"\"\n",
    "    return {\n",
    "        'hello': lambda: \"Hello sir\",\n",
    "        'bye' : lambda: \"Bye sir\"\n",
    "    }\n",
    "g = greeting_use()\n",
    "\n",
    "print(g['hello']())"
   ]
  },
  {
   "cell_type": "code",
   "execution_count": null,
   "metadata": {},
   "outputs": [],
   "source": [
    "def greeting(name):\n",
    "    \"\"\"Returns a dictionary of greeting action using lambda functions\"\"\"\n",
    "    return {    \n",
    "        \"hello\": lambda: f\"Hello {name.title()}.\", \n",
    "        \"bye\": lambda: f\"Good bye {name.title()}.\" \n",
    "    }\n",
    "\n",
    "g1 = greeting(\"luis\") \n",
    "g2 = greeting(\"benthe\")\n",
    "\n",
    "print(g1[\"hello\"]())\n",
    "print(g2[\"bye\"]())\n"
   ]
  },
  {
   "cell_type": "code",
   "execution_count": null,
   "metadata": {},
   "outputs": [],
   "source": [
    "def greeting(name1, name2):\n",
    "    \"\"\"Returns a dictionary of greeting action using lambda functions\"\"\"\n",
    "    return {    \n",
    "        \"hello\": lambda: f\"Hello {name1.title()} and {name2.title()}.\", \n",
    "        \"bye\": lambda: f\"Good bye {name1.title()} and {name2.title()}.\" \n",
    "    }\n",
    "\n",
    "g = greeting(\"luis\", \"benthe\").strip()\n",
    "\n",
    "print(g[\"hello\"]())\n",
    "print(g[\"bye\"]())"
   ]
  },
  {
   "cell_type": "code",
   "execution_count": null,
   "metadata": {},
   "outputs": [],
   "source": [
    "def greeting(*names):\n",
    "    \"\"\"Returns a dictionary of greeting action using lambda functions\"\"\"\n",
    "    full_names = \" and \".join(name.title() for name in names)\n",
    "    return {    \n",
    "        \"hello\": lambda: f\"Hello {full_names}.\", \n",
    "        \"bye\": lambda: f\"Good bye {full_names}.\" \n",
    "    }\n",
    "\n",
    "g = greeting(\"luis\", \"benthe\", \"kai\")\n",
    "\n",
    "print(g[\"hello\"]())\n",
    "print(g[\"bye\"]())"
   ]
  },
  {
   "cell_type": "code",
   "execution_count": null,
   "metadata": {},
   "outputs": [],
   "source": [
    "def greeting(*names): # you use *names, so the function accepts any number of name (1 or more)\n",
    "    \"\"\"Return a dictionary of greeting actions for multiples names\"\"\"\n",
    "\n",
    "    #format each name (capitalize)\n",
    "    form_names = [name.title() for name in names] # You're using list comprehension to capitalize every name.\n",
    "    \n",
    "    # Handle 2 or more names.\n",
    "    if len(form_names) > 1:     # if there are 2 or 2+ names.\n",
    "        full_names = \", \".join(form_names[:-1]) + \" and \" + form_names[-1]  # using slicing [:-1] and [-1] to isolate the last name\n",
    "                                                                            # [:-1] means: take everything except the last item. //\n",
    "                                                                            # [-1] means: Take only the last item.   \n",
    "    else:\n",
    "        full_names = form_names[0] # only one name.\n",
    "    return {\n",
    "        \"hello\": lambda: f\"Hello {full_names}.\",\n",
    "        \"bye\": lambda: f\"Good bye {full_names}.\"\n",
    "    }\n",
    "# Call the function\n",
    "g = greeting(\"Luis\", \"benthe\",\"KAI\")\n",
    "g2 = greeting(\"Luis\")\n",
    "\n",
    "#print the result 1\n",
    "print(g[\"hello\"]())\n",
    "print(g[\"bye\"]())"
   ]
  },
  {
   "cell_type": "code",
   "execution_count": null,
   "metadata": {},
   "outputs": [],
   "source": [
    "def greeting(*names):\n",
    "    \"\"\"Return a dictionary of greeting actions for multiples names\"\"\"\n",
    "\n",
    "    #format each name (capitalize)\n",
    "    form_names = [name.title() for name in names]\n",
    "    \n",
    "    # Handle 2 or more names.\n",
    "    if len(form_names) > 1:\n",
    "        full_names = \", \".join(form_names[:-1]) + \" and \" + form_names[-1] \n",
    "    else:\n",
    "        full_names = form_names[0] # only one name.\n",
    "    return {\n",
    "        \"hello\": lambda: f\"Hello {full_names}.\",\n",
    "        \"bye\": lambda: f\"Good bye {full_names}.\"\n",
    "    }\n",
    "# Call the function\n",
    "g = greeting(\"Luis\", \"benthe\", \"KAI\")\n",
    "g2 = greeting(\"Luis\")\n",
    "\n",
    "#print the result 1\n",
    "print(g[\"hello\"]())\n",
    "print(g[\"bye\"]())\n",
    "\n",
    "#print the results 2\n",
    "print(g2[\"hello\"]())\n",
    "print(g2[\"bye\"]())"
   ]
  },
  {
   "cell_type": "markdown",
   "metadata": {},
   "source": [
    "## *arg function\n"
   ]
  },
  {
   "cell_type": "code",
   "execution_count": null,
   "metadata": {},
   "outputs": [],
   "source": [
    "def sum_numbers_args(*args):\n",
    "    \"\"\"Create a function that takes any number of numbers and return theri sum.\"\"\"\n",
    "    total = 0 # creates a variable to keep track of the sum.Starts at 0.\n",
    "\n",
    "    for number in args: # Loops through each number passed into the function.\n",
    "        total += number # Adds each nuber to the total.\n",
    "    return total\n",
    "\n",
    "result = sum_numbers_args(4,1,4,2)\n",
    "print(f\"the total sum is: {result}\")\n",
    "\n",
    "# what this code does:\n",
    "    # Accepts multiple arguments using *args\n",
    "    # loops through them\n",
    "    # Adds them all together\n",
    "    # Returns the result.\n",
    "\n"
   ]
  },
  {
   "cell_type": "code",
   "execution_count": null,
   "metadata": {},
   "outputs": [],
   "source": [
    "def multiply_numbers_args(*args):\n",
    "    \"\"\"Create a function that takes multiple numbers and return the result of multiplying them all together.\"\"\"\n",
    "    total = 1 # Starts with 1 (because 1 x anything = that number.)\n",
    "    for num in args: # you need to give the name of the parameter\n",
    "        total *= num\n",
    "    return total\n",
    "\n",
    "result = multiply_numbers_args(2,3,4,5)\n",
    "print(f\"the result is: {result}.\")\n",
    "\n",
    "#What this code does:\n",
    "    # aceepts any number of values\n",
    "    # multiplies them one by one\n",
    "    # returns the final product\n"
   ]
  },
  {
   "cell_type": "code",
   "execution_count": null,
   "metadata": {},
   "outputs": [],
   "source": [
    "def collect_strings(*args):\n",
    "    \"\"\"Create a function that accepts multiple arguments and return only the ones that are strings.\"\"\"\n",
    "    strings = [] #Creates a empty list to store strings\n",
    "    for item in args:\n",
    "        if isinstance(item, str): # Checks if the current item is a string.\n",
    "            strings.append(item)  # If it is, it add it to the strings list.\n",
    "    return strings\n",
    "\n",
    "result = collect_strings(1, \"apple\", 3.5, 'banana', True)\n",
    "print(f\"Collected strings: {result}\")\n",
    "\n",
    "#What this code does:\n",
    "    # accepts any number of values using *args\n",
    "    # checks each one to see if it is a string\n",
    "    # Return a list of only the string values"
   ]
  },
  {
   "cell_type": "code",
   "execution_count": null,
   "metadata": {},
   "outputs": [],
   "source": [
    "def multiply_all(*args):\n",
    "    \"\"\"Create a function that multplies all numbers passed as arguments using *args.(if no numbers are given, return 'No numbers provided'.)\"\"\"\n",
    "    if not args:\n",
    "        return \"No number provide.\"\n",
    "    \n",
    "    numbers = 1\n",
    "    for num in args:\n",
    "        numbers *= num\n",
    "    return numbers\n",
    "\n",
    "result = multiply_all(2,3,4)\n",
    "print(\"Product of all numbers: \", result)\n",
    "\n",
    "# What the code does:\n",
    "    # Accepts any number of arguments.\n",
    "    # multiples them all together.\n",
    "    # Handle the case when no numbers are given"
   ]
  },
  {
   "cell_type": "code",
   "execution_count": null,
   "metadata": {},
   "outputs": [],
   "source": [
    "def multiply_numbers_all(*args):\n",
    "    \"\"\"Create a function that receives mixed values (string, numbers,booelans..) and multiplies only the numeric ones.\"\"\"\n",
    "    result = 1      # initializes result at 1 (for multiplication)\n",
    "    found_number = True # A flag to check if any valid number is found\n",
    "\n",
    "    for item in args:   # Loops over ech item passed to the function.\n",
    "        if isinstance(item, (int,float)) and not isinstance(item, bool): # checks if it's  a number, not a boolean.\n",
    "            result *= item\n",
    "        found_number = True     # Activates the flag if we found a number.\n",
    "\n",
    "    if not found_number:    # if no valid number was found...\n",
    "        return \"No numeric value to multiply.\"\n",
    "    return result\n",
    "\n",
    "output = multiply_numbers_all(2, 1.5, \"helo\", True, False, 1.1, \"Python\")\n",
    "print(\"Result of multiplication: \", output)\n",
    "\n",
    "\n",
    "# What the codes does:\n",
    "    # accepts any values using *args\n",
    "    # checks if the value is an int or float\n",
    "    # ignores strings and booleans\n",
    "    # Return the product of all valid numbers\n",
    "    # if no valid numbers, returns a message"
   ]
  },
  {
   "cell_type": "markdown",
   "metadata": {},
   "source": []
  },
  {
   "cell_type": "markdown",
   "metadata": {},
   "source": [
    "## **kwargs"
   ]
  },
  {
   "cell_type": "code",
   "execution_count": null,
   "metadata": {},
   "outputs": [],
   "source": [
    "def show_info(**kwargs):\n",
    "    \"\"\"Create a function that receives any number of named keyword arguments (like {name}: {\"Luis}) and prints each key and values.\"\"\"\n",
    "\n",
    "    for key, value in kwargs.items(): #Loops over the dictionary - .items() gives each key and its value.\n",
    "        print(f\"{key}: {value}\")\n",
    "\n",
    "show_info(name=\"Luis\", age=28, country=\"NL\")\n",
    "\n",
    "\n",
    "# What the code does:\n",
    "    # Accepts keyword arguments using **kwargs\n",
    "    # Stores them as a dictionary (with keys and values)\n",
    "    # Loops through the dictionary\n",
    "    # Prints each key (like name) and its values (like \"luis\")"
   ]
  },
  {
   "cell_type": "code",
   "execution_count": null,
   "metadata": {},
   "outputs": [],
   "source": [
    "def count_keywords(**kwargs):\n",
    "    \"\"\" Create a function that takes any number of keyword arguments and returns how many were passed.\"\"\"\n",
    "    return len(kwargs) # Kwargs is a dictionary .len() counts how many key-value pairs are inside\n",
    "\n",
    "total = count_keywords(name=\"Kai\", age=4, city='tokyo', pet=\"Dog\")\n",
    "print(\"Total keyword arguments: \", total)\n",
    "\n",
    "# What the code does:\n",
    "    # Uses **kwargs to accept named arguments\n",
    "    # Counts how many keys were passed\n",
    "    # Returns the number\n",
    "    # Can be useful in forms, settings, or dynamic functions.\n",
    "# Why it's useful:\n",
    "    # this is perfect for checking how many settings, form fields, or custom options a user sent to a function.\n",
    "    "
   ]
  },
  {
   "cell_type": "code",
   "execution_count": null,
   "metadata": {},
   "outputs": [],
   "source": [
    "def create_profile(**kwargs):\n",
    "    \"\"\" Create a function that builds and return a full sentence  using **kwargs. The function should expect key like name, age, and hobby -- and then ccreate a sentence usign their values.\"\"\"\n",
    "\n",
    "    name = kwargs.get(\"name\", \"Unknown\") # Gets the value for 'name', or uses 'unknown' if not provided \n",
    "    age = kwargs.get(\"age\", \"Unknown age\") # Gets the 'age' value, with a default text.\n",
    "    hobby = kwargs.get(\"hobby\", \"no hobbies\")   # Gets the 'hobby' value or a default if missing.\n",
    "\n",
    "    return f\"My name is {name}, i am {age} years old, and i like {hobby}.\"      # Builds and return a complete sentence\n",
    "\n",
    "sntc = create_profile(name=\"Benthe\", age=27, hobby=\"reading\")\n",
    "sntc2 = create_profile()\n",
    "print(sntc)\n",
    "print(sntc2)\n",
    "\n",
    "# What the code does:\n",
    "    # accepts keyword arguments with **kwargs\n",
    "    # extracts specific key (name, age, hobby)\n",
    "    # Builds a sentence using those values.\n",
    "    # Returns the sentence\n",
    "\n",
    "# Why this is useful:\n",
    "    # you can build dynamic response based on user input, settings, or form data -- even if not all fields are present!"
   ]
  },
  {
   "cell_type": "code",
   "execution_count": null,
   "metadata": {},
   "outputs": [],
   "source": [
    "def check_email(**kwargs):\n",
    "    \"\"\" Create a function using **kwargs that checks if a specific key (like 'email') was provided by the user.\"\"\"\n",
    "\n",
    "    if \"email\" in kwargs:       # checks if the key 'email' exists in the dictionary\n",
    "        return f\" Email found: {kwargs['email']}\"\n",
    "    else:\n",
    "        return f\" No email provided.\"\n",
    "\n",
    "print(check_email(name=\"luis\", email = 'luis@mail.com'))\n",
    "print(check_email(name=\"kai\", ))\n",
    "\n",
    "# What the code does:\n",
    "    # check **kwargs to receive dynamic keyword arguments\n",
    "    # check if they key 'email' is in the dictionary.\n",
    "    # Returns a different message depending on whether it's found or not\n",
    "\n",
    "#🧠 Why this is useful:\n",
    "    # You can check whether a user provided essential information like an email or password in a clean and flexible way.\n"
   ]
  },
  {
   "cell_type": "code",
   "execution_count": null,
   "metadata": {},
   "outputs": [],
   "source": [
    "def configure_settings(**kwargs):\n",
    "    \"\"\" Create a function that merges a set of default settings with custom values provided by the user using **kwargs\"\"\"\n",
    "\n",
    "    default_settings = {        # Creates a dictionary with some default values.\n",
    "        \"theme\": \"light\",\n",
    "        \"language\": \"English\",\n",
    "        \"notifications\": True\n",
    "    }\n",
    "\n",
    "    default_settings.update(kwargs)     # Updates those defaults with any user-provided changes\n",
    "    return default_settings             # returns the merged result.\n",
    "\n",
    "user_confi = configure_settings(theme = \"dark\", notifications = False)  # Calls the function with custom user values\n",
    "print(\"Final configuration: \", user_confi)\n",
    "\n",
    "# what the code does:\n",
    "    # - uses dictionary of default settings\n",
    "    # - accepts **kwargs to override them\n",
    "    # - updates the default settings with the user's custom values\n",
    "    # - returns the final configuration\n",
    "\n",
    "# why is useful?\n",
    "    # - This is perfect when building apps, dashboards, or tools where the user can change only the parts they want, while keeping the rest as defaults."
   ]
  }
 ],
 "metadata": {
  "kernelspec": {
   "display_name": "Python 3",
   "language": "python",
   "name": "python3"
  },
  "language_info": {
   "codemirror_mode": {
    "name": "ipython",
    "version": 3
   },
   "file_extension": ".py",
   "mimetype": "text/x-python",
   "name": "python",
   "nbconvert_exporter": "python",
   "pygments_lexer": "ipython3",
   "version": "3.13.2"
  }
 },
 "nbformat": 4,
 "nbformat_minor": 2
}
