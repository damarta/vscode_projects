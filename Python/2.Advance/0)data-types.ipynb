{
 "cells": [
  {
   "cell_type": "markdown",
   "metadata": {},
   "source": [
    "1) List:\n",
    "\n",
    "- Ordered(index)-> (0, ... 6)\n",
    "- Changeable (mutable) -> you can change items.\n",
    "- Duplications\n",
    "- my_list = [1,2,3, \"aple\", True]"
   ]
  },
  {
   "cell_type": "markdown",
   "metadata": {},
   "source": [
    "1.2) Common Methods:\n",
    "- append: mylist.append(\"pera\")\n",
    "- remove: mylist.remove(\"apple\")\n",
    "- index: mylist[1] = \"banana\"\n"
   ]
  },
  {
   "cell_type": "code",
   "execution_count": 20,
   "metadata": {},
   "outputs": [
    {
     "name": "stdout",
     "output_type": "stream",
     "text": [
      "[1, 2, 3, 4, 5]\n",
      "[1, 2, 3, 4, 5, 1]\n",
      "[1, 2, 3, 4, 5, 23]\n",
      "[1, 2, 3, 4, 23]\n",
      "[1, 2, 3]\n",
      "[1, 2, 3]\n"
     ]
    }
   ],
   "source": [
    "mylist = [1,2,3,4,5]\n",
    "print(mylist)\n",
    "\n",
    "#add item:\n",
    "mylist.append(1)\n",
    "print(mylist)\n",
    "\n",
    "#Replace item:\n",
    "mylist[-1] =23\n",
    "print(mylist)\n",
    "\n",
    "#remove by value:\n",
    "mylist.remove(5)\n",
    "print(mylist)\n",
    "\n",
    "#remove by index:\n",
    "mylist.pop (3)and mylist.pop(-1)\n",
    "print(mylist)\n",
    "\n",
    "#Get last item:\n",
    "mylist[-1]\n",
    "print(mylist)"
   ]
  },
  {
   "cell_type": "markdown",
   "metadata": {},
   "source": [
    "2) Tupla:\n",
    "\n",
    "- Ordered (index)\n",
    "- UNchangeable (inmutable)\n",
    "- Duplicates\n",
    "- Faster and safer for fixed data\n",
    "- mytuple = (1,2,3 \"aple\")\n"
   ]
  },
  {
   "cell_type": "code",
   "execution_count": 21,
   "metadata": {},
   "outputs": [
    {
     "name": "stdout",
     "output_type": "stream",
     "text": [
      "4\n"
     ]
    }
   ],
   "source": [
    "mytupla = (1, 3, 4, 4, 5, 6)\n",
    "\n",
    "print(mytupla[3])"
   ]
  },
  {
   "cell_type": "code",
   "execution_count": null,
   "metadata": {},
   "outputs": [
    {
     "name": "stdout",
     "output_type": "stream",
     "text": [
      "[99, 3, 4, 4, 5, 6]\n",
      "(99, 3, 4, 4, 5, 6)\n"
     ]
    }
   ],
   "source": [
    "# you can convert it to a list to modify:\n",
    "mytupla = (1, 3, 4, 4, 5, 6)\n",
    "\n",
    "temp = list(mytupla)\n",
    "temp[0]= 99\n",
    "mytupla = tuple(temp)\n",
    "\n",
    "print(temp)\n",
    "print(mytupla)"
   ]
  },
  {
   "cell_type": "markdown",
   "metadata": {},
   "source": [
    "3) Set\n",
    "\n",
    "- UNordered -> index\n",
    "- Make sort() automatically\n",
    "- UNchangeable\n",
    "- DOESN'T allow DUPLICATION\n",
    "- Useful for math operations"
   ]
  },
  {
   "cell_type": "code",
   "execution_count": 24,
   "metadata": {},
   "outputs": [
    {
     "name": "stdout",
     "output_type": "stream",
     "text": [
      "{'banana', 10, 11, 13, 14}\n"
     ]
    }
   ],
   "source": [
    "my_set = {11, 11, 10, 10, 13, 14, \"banana\"}\n",
    "print(my_set)"
   ]
  },
  {
   "cell_type": "code",
   "execution_count": 39,
   "metadata": {},
   "outputs": [
    {
     "name": "stdout",
     "output_type": "stream",
     "text": [
      "{'banana', 10, 11, 'pera', 13, 14}\n",
      "{'banana', 10, 11, 'pera', 13, 14}\n",
      "{'banana', 'pera', 14}\n"
     ]
    }
   ],
   "source": [
    "#common methods:\n",
    "my_set.add(\"banana\")\n",
    "print(my_set)\n",
    "my_set.add(\"pera\")\n",
    "print(my_set)\n",
    "my_set.remove(10)\n",
    "my_set.remove(11)\n",
    "my_set.remove(13)\n",
    "print(my_set)"
   ]
  },
  {
   "cell_type": "code",
   "execution_count": 40,
   "metadata": {},
   "outputs": [
    {
     "name": "stdout",
     "output_type": "stream",
     "text": [
      "banana\n",
      "pera\n",
      "14\n"
     ]
    }
   ],
   "source": [
    "for item in my_set:\n",
    "    print(item)"
   ]
  },
  {
   "cell_type": "markdown",
   "metadata": {},
   "source": [
    "4) Dictionary (dict)\n",
    "\n",
    "- Collection of {key} : {value} pairs.\n",
    "- Key-value structure\n",
    "- Keys must be unique\n",
    "- ordered."
   ]
  },
  {
   "cell_type": "code",
   "execution_count": null,
   "metadata": {},
   "outputs": [],
   "source": [
    "mydict= {\"Name\": \"Luis\", {\"Age\"}: {29}}\n",
    "\n",
    "print(mydict)"
   ]
  }
 ],
 "metadata": {
  "kernelspec": {
   "display_name": "Python 3",
   "language": "python",
   "name": "python3"
  },
  "language_info": {
   "codemirror_mode": {
    "name": "ipython",
    "version": 3
   },
   "file_extension": ".py",
   "mimetype": "text/x-python",
   "name": "python",
   "nbconvert_exporter": "python",
   "pygments_lexer": "ipython3",
   "version": "3.13.2"
  }
 },
 "nbformat": 4,
 "nbformat_minor": 2
}
