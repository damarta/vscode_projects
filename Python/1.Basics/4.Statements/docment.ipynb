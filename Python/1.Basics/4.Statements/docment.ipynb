{
 "cells": [
  {
   "cell_type": "code",
   "execution_count": null,
   "metadata": {},
   "outputs": [],
   "source": [
    "i = 1\n",
    "\n",
    "while i <= 20:\n",
    "    if i % 2 == 0:\n",
    "        i += 1\n",
    "        continue\n",
    "    print(f\"The odd number is: {i}\")\n",
    "    i += 1"
   ]
  },
  {
   "cell_type": "code",
   "execution_count": null,
   "metadata": {},
   "outputs": [],
   "source": [
    "ask_name = None\n",
    "stop = None\n",
    "\n",
    "while ask_name != stop:\n",
    "    ask_name = input(\"Introduce your name: \")\n",
    "    if stop == \"stop\":\n",
    "        print(f\"Welkom {ask_name}\")\n",
    "        break\n",
    "    print(ask_name)\n"
   ]
  },
  {
   "cell_type": "code",
   "execution_count": null,
   "metadata": {},
   "outputs": [],
   "source": [
    "while True:\n",
    "    name = input(\"Enter name (write 'stop' if you wan to end): \")\n",
    "    if name.lower() == \"stop\":\n",
    "        break\n",
    "    print(f\"Hello, {name.capitalize()}!\")"
   ]
  },
  {
   "cell_type": "code",
   "execution_count": null,
   "metadata": {},
   "outputs": [],
   "source": [
    "i = 1\n",
    "\n",
    "while i <= 10:\n",
    "    if i == 9:\n",
    "        break\n",
    "    print(\"*\" * i)\n",
    "    i += 1\n"
   ]
  },
  {
   "cell_type": "code",
   "execution_count": null,
   "metadata": {},
   "outputs": [],
   "source": [
    "i = 1\n",
    "\n",
    "while i <= 20:\n",
    "    if i % 4 == 0:\n",
    "        i += 1\n",
    "        continue\n",
    "    print(i)\n",
    "    i += 1\n"
   ]
  },
  {
   "cell_type": "code",
   "execution_count": null,
   "metadata": {},
   "outputs": [],
   "source": [
    "i = 1\n",
    "\n",
    "while i <= 20:\n",
    "    if i % 4 == 0:\n",
    "        print(i)\n",
    "        i += 1\n",
    "    i += 1\n",
    "    continue\n"
   ]
  },
  {
   "cell_type": "code",
   "execution_count": 1,
   "metadata": {},
   "outputs": [
    {
     "name": "stdout",
     "output_type": "stream",
     "text": [
      "\n",
      "This numbers is negative, the code stop: -5\n"
     ]
    }
   ],
   "source": [
    "while True:\n",
    "    number = int(input(\"Introduce numbers: (if number is negative 'stop')\"))\n",
    "    if number < 0:\n",
    "        print(f\"\\nThis numbers is negative, the code stop: {number}\")\n",
    "        break\n",
    "    print(f\"\\nPositive number :{number}\")\n"
   ]
  },
  {
   "cell_type": "code",
   "execution_count": null,
   "metadata": {},
   "outputs": [],
   "source": [
    "# multiply tabel of 10\n",
    "\n",
    "tabel = 1\n",
    "\n",
    "while True:\n",
    "    result = 10 * tabel\n",
    "    if result > 50:\n",
    "        break\n",
    "    print(f\"10 X {tabel} = {result}\")\n",
    "    tabel += 1\n"
   ]
  },
  {
   "cell_type": "code",
   "execution_count": null,
   "metadata": {},
   "outputs": [],
   "source": [
    "i = 1\n",
    "\n",
    "for i in range (0,6):\n",
    "    if i == 3:\n",
    "        pass\n",
    "    else:\n",
    "        print(i)\n",
    "\n"
   ]
  },
  {
   "cell_type": "code",
   "execution_count": null,
   "metadata": {},
   "outputs": [],
   "source": [
    "\n",
    "i = 1\n",
    "\n",
    "while i <= 5:\n",
    "    if i ==3:\n",
    "        i +=1\n",
    "        print(i)\n",
    "        pass\n",
    "    print(i)\n",
    "    i += 1\n"
   ]
  },
  {
   "cell_type": "code",
   "execution_count": null,
   "metadata": {},
   "outputs": [],
   "source": [
    "block = 1\n",
    "\n",
    "for block in range(0,6):\n",
    "        print(block)\n",
    "else:\n",
    "        print(\"Block completed\")"
   ]
  },
  {
   "cell_type": "code",
   "execution_count": null,
   "metadata": {},
   "outputs": [],
   "source": [
    "i = 1\n",
    "\n",
    "while i <= 5:\n",
    "    print(i)\n",
    "    i +=1\n",
    "else:\n",
    "    print(\"Block done!\")"
   ]
  },
  {
   "cell_type": "code",
   "execution_count": null,
   "metadata": {},
   "outputs": [],
   "source": [
    "for i in range(1, 6):\n",
    "    print(i)\n",
    "else:\n",
    "    print(\"Completed\")"
   ]
  },
  {
   "cell_type": "code",
   "execution_count": null,
   "metadata": {},
   "outputs": [],
   "source": [
    "try:\n",
    "    num_1 = int(input(\"Introduce the first number: \"))\n",
    "    num_2 = int(input(\"Introduce the second number: \"))\n",
    "    \n",
    "    result = num_1 / num_2\n",
    "\n",
    "    print(f\"result: {result}\")\n",
    "except ZeroDivisionError:\n",
    "    print(\"You can't divide by zero.\")\n",
    "\n",
    "\n"
   ]
  },
  {
   "cell_type": "markdown",
   "metadata": {},
   "source": [
    "Example 1 - Handling ZeroDivisionError"
   ]
  },
  {
   "cell_type": "code",
   "execution_count": 3,
   "metadata": {},
   "outputs": [
    {
     "name": "stdout",
     "output_type": "stream",
     "text": [
      "10.0\n"
     ]
    }
   ],
   "source": [
    "try:\n",
    "    a = float(input(\"Introduce the first number: \"))\n",
    "    b = float(input(\"Introduce the second number: \"))\n",
    "    result = a / b\n",
    "    print(result)\n",
    "except ZeroDivisionError:\n",
    "    print(\"You cant not divide with by zero.\")"
   ]
  },
  {
   "cell_type": "markdown",
   "metadata": {},
   "source": [
    "example 2 ) Handling ValueError\n",
    "    - task: ask for a number and handle cases when the user enters text."
   ]
  },
  {
   "cell_type": "code",
   "execution_count": 5,
   "metadata": {},
   "outputs": [
    {
     "name": "stdout",
     "output_type": "stream",
     "text": [
      "Your user number is : 10\n"
     ]
    }
   ],
   "source": [
    "try:\n",
    "    number = int(input(\"Enter your user number: \"))\n",
    "    print(f\"Your user number is : {number}\")\n",
    "\n",
    "except ValueError:\n",
    "    print(\"This value is not correct.\")"
   ]
  },
  {
   "cell_type": "markdown",
   "metadata": {},
   "source": [
    "Example 3 : Handling IndexError.\n",
    "    - Ask the user for a index and print the value from a list, handling out-of-range errors.\n",
    "    "
   ]
  },
  {
   "cell_type": "code",
   "execution_count": null,
   "metadata": {},
   "outputs": [
    {
     "name": "stdout",
     "output_type": "stream",
     "text": [
      "This is index dont't exist in us program.\n"
     ]
    }
   ],
   "source": [
    "my_list = [1, 2, 3, 4]\n",
    "\n",
    "try:\n",
    "    index = int(input(\"Introduce the number of index that you want to have access (0-3): \"))\n",
    "    print(f\"The index of the list is: {my_list[index]}\")\n",
    "except IndexError:\n",
    "    print(\"This is index dont't exist in us program.\")\n",
    "except ValueError:\n",
    "    print(f\"this value, is not correct\")\n",
    "    "
   ]
  },
  {
   "cell_type": "markdown",
   "metadata": {},
   "source": [
    "Example 3.1) Showing to the user which input he introduce.\n",
    "    - First store the input in a variabe before converting it to int().\n",
    "    - Then, if there is an error, you can still print what the user typed."
   ]
  },
  {
   "cell_type": "code",
   "execution_count": 22,
   "metadata": {},
   "outputs": [
    {
     "name": "stdout",
     "output_type": "stream",
     "text": [
      "This index not exist: 11\n"
     ]
    }
   ],
   "source": [
    "my_list = [1, 2, 3, 4, 5, 6]\n",
    "\n",
    "try:\n",
    "    user_input = input(\"Enter a index: \")\n",
    "    index = int(user_input)\n",
    "    print(f\"The index you introduce is {user_input}: you have access to {my_list[index]}\")\n",
    "except ValueError:\n",
    "    print(f\"This is not the correct value: {user_input}\")\n",
    "except IndexError:\n",
    "    print(f\"This index not exist: {user_input}\")"
   ]
  },
  {
   "cell_type": "markdown",
   "metadata": {},
   "source": [
    "Example 4) Multiple exceptions in one block\n",
    "    - Ask for two numbers, divide them, and cathe both ZeroDivisionError and ValueError."
   ]
  },
  {
   "cell_type": "code",
   "execution_count": null,
   "metadata": {},
   "outputs": [],
   "source": [
    "try: \n",
    "    a = float(input(\"Enter number A: \"))\n",
    "    b = float(input(\"Enter number B: \"))\n",
    "    result = a / b\n",
    "    print(f\"The result is: {result}\")\n",
    "except ZeroDivisionError:\n",
    "    print(\"Division\")"
   ]
  },
  {
   "cell_type": "markdown",
   "metadata": {},
   "source": [
    "Example 5 ) Handling FileNotFoundError\n",
    "    #Task:\n",
    "    ------\n",
    "    - Try to open a file called, data.txt and read it\n",
    "    - if the file doesn't exist, catch the error and show a friendly messahe.\n",
    "\n",
    "    #Step by step:\n",
    "    --------------\n",
    "    - Use with open(\"data.txt\", \"r\") to try to open the file.\n",
    "    - If the file exists, read its content and print it.\n",
    "    - If the file does not exist, Python raises a FileNotFoundError.\n",
    "    - The Except FileNotFoundErrorn block catches that and shows a message."
   ]
  },
  {
   "cell_type": "code",
   "execution_count": 23,
   "metadata": {},
   "outputs": [
    {
     "name": "stdout",
     "output_type": "stream",
     "text": [
      "The file was not found.\n"
     ]
    }
   ],
   "source": [
    "try:\n",
    "    with open(\"data.txt\", \"r\") as file:\n",
    "        content = file.read()\n",
    "        print(content)\n",
    "except FileNotFoundError:\n",
    "    print(\"The file was not found.\")"
   ]
  },
  {
   "cell_type": "markdown",
   "metadata": {},
   "source": [
    "Example 6) Handling multiple Exceptions in one program.\n",
    "\n",
    "\t1.\tAsk the user for two numbers (using float()).\n",
    "\t2.\tUse try to divide the numbers.\n",
    "\t3.\tIf something goes wrong (wrong input or division by zero), handle it.\n",
    "\t4.\tIf successful, try to open the file and print the content.\n",
    "\t5.\tIf the file doesn’t exist, catch FileNotFoundError.\n",
    "\t6.\tAdd a finally block to print “End of program”."
   ]
  },
  {
   "cell_type": "code",
   "execution_count": null,
   "metadata": {},
   "outputs": [
    {
     "name": "stdout",
     "output_type": "stream",
     "text": [
      "You cant divide by zero\n",
      "End of the program.\n"
     ]
    }
   ],
   "source": [
    "try:\n",
    "    #Ask the user for two numbers\n",
    "    n1 = input(\"Enter the first number: \")\n",
    "    n2 = input(\"Enter the second number: \")\n",
    "    result_1 = float(n1)\n",
    "    result_2 = float(n2)\n",
    "\n",
    "    #divide the numbers\n",
    "    result_total = result_1 / result_2\n",
    "    print(f\"Divide the two numbers:{result_1} / {result_2}= {result_total}\")\n",
    "\n",
    "    # Now try to open and read a file\n",
    "    print(\"\\nAttent to open the file 'data.txt' ...\")\n",
    "    with open(\"data.txt\", \"r\") as file:\n",
    "        content = file.read()\n",
    "        print(\"File content: \\n\", content)\n",
    "\n",
    "except ValueError:\n",
    "    print(\"This value was not correct!\")\n",
    "except ZeroDivisionError:\n",
    "    print(\"You cant divide by zero\")\n",
    "except FileNotFoundError:\n",
    "    print(\"This document doesn't exist.\")\n",
    "\n",
    "finally:\n",
    "    print(\"End of the program.\")"
   ]
  }
 ],
 "metadata": {
  "kernelspec": {
   "display_name": "Python 3",
   "language": "python",
   "name": "python3"
  },
  "language_info": {
   "codemirror_mode": {
    "name": "ipython",
    "version": 3
   },
   "file_extension": ".py",
   "mimetype": "text/x-python",
   "name": "python",
   "nbconvert_exporter": "python",
   "pygments_lexer": "ipython3",
   "version": "3.13.2"
  }
 },
 "nbformat": 4,
 "nbformat_minor": 2
}
