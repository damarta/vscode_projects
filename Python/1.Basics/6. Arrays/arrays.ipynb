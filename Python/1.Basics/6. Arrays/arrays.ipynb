{
 "cells": [
  {
   "cell_type": "markdown",
   "metadata": {
    "vscode": {
     "languageId": "bat"
    }
   },
   "source": [
    "Exercise 1) Create an array of integers from 0 to 20 with steps of 2.\n",
    "\n",
    "    - Create 1D array starting at 0, ending at 20, counting in steps of 2\n",
    "\n"
   ]
  },
  {
   "cell_type": "code",
   "execution_count": 3,
   "metadata": {},
   "outputs": [
    {
     "name": "stdout",
     "output_type": "stream",
     "text": [
      "[ 0  2  4  6  8 10 12 14 16 18 20]\n"
     ]
    }
   ],
   "source": [
    "import numpy as np\n",
    "\n",
    "my_array = np.arange(0,21,2)\n",
    "print(my_array)"
   ]
  },
  {
   "cell_type": "markdown",
   "metadata": {},
   "source": [
    "Exercise 2) Create an array of 5 random floats between 0 an 1\n",
    "\n",
    "    - Generate an array with 5 random float values between 0 and 1.\n",
    "    - Use { np.random.rand(size) } to generate random numbers between 0 and 1"
   ]
  },
  {
   "cell_type": "code",
   "execution_count": 5,
   "metadata": {},
   "outputs": [
    {
     "name": "stdout",
     "output_type": "stream",
     "text": [
      "[0.65684542 0.58414998 0.25292854 0.25958889 0.53637204]\n"
     ]
    }
   ],
   "source": [
    "import numpy as np\n",
    "\n",
    "random_array = np.random.rand(5)\n",
    "print(random_array)"
   ]
  },
  {
   "cell_type": "markdown",
   "metadata": {},
   "source": [
    "Exercise 3) Create a 3x3 indentify matrix.\n",
    "\n",
    "    - Create a square matrix where diagonal elements are 1 and others are 0.\n",
    "    - use np.eye(size) for identify matrices."
   ]
  },
  {
   "cell_type": "code",
   "execution_count": 6,
   "metadata": {},
   "outputs": [
    {
     "name": "stdout",
     "output_type": "stream",
     "text": [
      "[[1. 0. 0.]\n",
      " [0. 1. 0.]\n",
      " [0. 0. 1.]]\n"
     ]
    }
   ],
   "source": [
    "import numpy as np\n",
    "\n",
    "matrix = np.eye(3)\n",
    "print(matrix)"
   ]
  },
  {
   "cell_type": "markdown",
   "metadata": {},
   "source": [
    "Exercise 4) Create a 4x4 with random intengers between 1 and 100.\n",
    "\n",
    "    - Generate random integers in matrix form.\n",
    "    - Use 'np.random.randint(low, high, size =(rows, columns))"
   ]
  },
  {
   "cell_type": "code",
   "execution_count": 12,
   "metadata": {},
   "outputs": [
    {
     "name": "stdout",
     "output_type": "stream",
     "text": [
      "[[ 42   3  55  18]\n",
      " [ 25  71 100  99]\n",
      " [ 96  65  66   2]\n",
      " [ 84  65  23 100]]\n"
     ]
    }
   ],
   "source": [
    "matrix = np.random.randint(1, 101, size =(4,4))\n",
    "print(matrix)"
   ]
  },
  {
   "cell_type": "markdown",
   "metadata": {},
   "source": [
    "Exercise 5) Reshape a 1D array of numbers from 1 and 12 into 3x4 matrix.\n",
    "\n",
    "    - Creats numbers and reshape them.\n",
    "    - Use 'np.arange( , )' and 'np.reshape()'"
   ]
  },
  {
   "cell_type": "code",
   "execution_count": null,
   "metadata": {},
   "outputs": [
    {
     "name": "stdout",
     "output_type": "stream",
     "text": [
      "[[ 1  2  3  4]\n",
      " [ 5  6  7  8]\n",
      " [ 9 10 11 12]]\n"
     ]
    }
   ],
   "source": [
    "import numpy as np\n",
    "\n",
    "array_1D = np.arange(1,13)\n",
    "array_matrix = array_1D.reshape(3,4)    # We don't use 'np.' , because you use np before to create np.arange()\n",
    "\n",
    "print(array_matrix)"
   ]
  },
  {
   "cell_type": "markdown",
   "metadata": {},
   "source": [
    "Exercise 6) Find the sum of all elements in a 3x3 random integer matrix\n",
    "\n",
    "    - Geneate a random matrix and sum all values.\n",
    "    - Use np.sum( ) agter generating the array."
   ]
  },
  {
   "cell_type": "code",
   "execution_count": 19,
   "metadata": {},
   "outputs": [
    {
     "name": "stdout",
     "output_type": "stream",
     "text": [
      "[[8 0 5]\n",
      " [0 9 0]\n",
      " [2 7 3]]\n",
      "Sum:  34\n"
     ]
    }
   ],
   "source": [
    "import numpy as np\n",
    "\n",
    "matrix = np.random.randint(0,11, size=(3,3))\n",
    "print(matrix)\n",
    "\n",
    "print(\"Sum: \", matrix.sum())"
   ]
  },
  {
   "cell_type": "markdown",
   "metadata": {},
   "source": [
    "Exercise 7) Find the mean of a 1D array of number from 1 to 100.\n",
    "\n",
    "    - Calculate the average.\n",
    "    - Use np.mean()"
   ]
  },
  {
   "cell_type": "code",
   "execution_count": null,
   "metadata": {},
   "outputs": [
    {
     "name": "stdout",
     "output_type": "stream",
     "text": [
      "The mean of the array is: 50.5\n"
     ]
    }
   ],
   "source": [
    "import numpy as np\n",
    "\n",
    "array_100 = np.arange(1,101)\n",
    "array_mean = array_100.mean()\n",
    "\n",
    "print(\"The mean of the array is:\",array_mean)"
   ]
  },
  {
   "cell_type": "markdown",
   "metadata": {},
   "source": [
    "Exercise 8) Create two arrays and multiply them element-wise.\n",
    "\n",
    "    - Multiply two arrays of the same size.\n",
    "    - Use * operator to multiply arrays element by element."
   ]
  },
  {
   "cell_type": "code",
   "execution_count": 24,
   "metadata": {},
   "outputs": [
    {
     "name": "stdout",
     "output_type": "stream",
     "text": [
      "[10 12 20]\n"
     ]
    }
   ],
   "source": [
    "import numpy as np\n",
    "\n",
    "a = np.array([2,3,4])\n",
    "b = np.array([5,4,5])\n",
    "\n",
    "result = a * b\n",
    "\n",
    "print(result)"
   ]
  },
  {
   "cell_type": "markdown",
   "metadata": {},
   "source": [
    "Exercise 9) Reverse a 1D array of number from 1 to 10\n",
    "\n",
    "    - Flip the array backwards.\n",
    "    - Use slicing with [::-1]"
   ]
  },
  {
   "cell_type": "code",
   "execution_count": 26,
   "metadata": {},
   "outputs": [
    {
     "name": "stdout",
     "output_type": "stream",
     "text": [
      "[ 1  2  3  4  5  6  7  8  9 10]\n",
      "Reverse numbers: [10  9  8  7  6  5  4  3  2  1]\n"
     ]
    }
   ],
   "source": [
    "import numpy as np\n",
    "\n",
    "arr = np.arange(1,11)\n",
    "print(arr)\n",
    "\n",
    "reverse = arr[::-1]\n",
    "\n",
    "print(f\"Reverse numbers: {reverse}\")"
   ]
  },
  {
   "cell_type": "markdown",
   "metadata": {},
   "source": [
    "Exercise 10) Create a 1D array and find its standard deviation.\n",
    "\n",
    "    - Find the standard deviation (spread of data).\n",
    "    - Use .std() method."
   ]
  },
  {
   "cell_type": "code",
   "execution_count": 27,
   "metadata": {},
   "outputs": [
    {
     "name": "stdout",
     "output_type": "stream",
     "text": [
      "[1 2 4 5]\n",
      "1.5811388300841898\n"
     ]
    }
   ],
   "source": [
    "import numpy as np\n",
    "\n",
    "arr = np.array([1, 2, 4, 5])\n",
    "print(arr)\n",
    "\n",
    "stand_devi= arr.std()\n",
    "print(stand_devi)"
   ]
  }
 ],
 "metadata": {
  "kernelspec": {
   "display_name": "Python (myenv)",
   "language": "python",
   "name": "myenv"
  },
  "language_info": {
   "codemirror_mode": {
    "name": "ipython",
    "version": 3
   },
   "file_extension": ".py",
   "mimetype": "text/x-python",
   "name": "python",
   "nbconvert_exporter": "python",
   "pygments_lexer": "ipython3",
   "version": "3.13.2"
  }
 },
 "nbformat": 4,
 "nbformat_minor": 2
}
