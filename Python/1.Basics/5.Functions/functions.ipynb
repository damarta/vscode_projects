{
 "cells": [
  {
   "cell_type": "markdown",
   "metadata": {},
   "source": [
    "Excercise 1) Say \"Hello\""
   ]
  },
  {
   "cell_type": "code",
   "execution_count": 1,
   "metadata": {},
   "outputs": [
    {
     "name": "stdout",
     "output_type": "stream",
     "text": [
      "Hello world. :)\n"
     ]
    }
   ],
   "source": [
    "def greet():\n",
    "    print(\"Hello world. :)\")\n",
    "\n",
    "greet()"
   ]
  },
  {
   "cell_type": "markdown",
   "metadata": {},
   "source": [
    "Excercise 2) Greet someone.\n",
    "\n",
    "    Create a function that thakes a name and prints a greeting.\n",
    "\n",
    "    We introduce parameters. A function can take input and use it."
   ]
  },
  {
   "cell_type": "code",
   "execution_count": 3,
   "metadata": {},
   "outputs": [
    {
     "name": "stdout",
     "output_type": "stream",
     "text": [
      "Hello Luis! .\n"
     ]
    }
   ],
   "source": [
    "def greet_user(name):\n",
    "    print(f\"Hello {name}! .\")\n",
    "\n",
    "greet_user(\"Luis\")"
   ]
  },
  {
   "cell_type": "markdown",
   "metadata": {},
   "source": [
    "Exercise 3) Add two numbers\n",
    "\n",
    "    - Write a function that adds two numbers and returns the result.\n",
    "    - We introduce 'return' value. Functions can give results block."
   ]
  },
  {
   "cell_type": "code",
   "execution_count": 4,
   "metadata": {},
   "outputs": [
    {
     "name": "stdout",
     "output_type": "stream",
     "text": [
      "15\n"
     ]
    }
   ],
   "source": [
    "def add(a, b):\n",
    "    return a + b\n",
    "\n",
    "result = add(5, 10)\n",
    "print(result)"
   ]
  },
  {
   "cell_type": "markdown",
   "metadata": {},
   "source": [
    "Exercise 4) multiplication"
   ]
  },
  {
   "cell_type": "code",
   "execution_count": 6,
   "metadata": {},
   "outputs": [
    {
     "name": "stdout",
     "output_type": "stream",
     "text": [
      "250800\n"
     ]
    }
   ],
   "source": [
    "def square(a,b):\n",
    "    return a * b\n",
    "\n",
    "result = square(12, 20900)\n",
    "print(result)\n"
   ]
  },
  {
   "cell_type": "markdown",
   "metadata": {},
   "source": [
    "Excercise 4.2) Square a Number\n",
    "\n",
    "    - Write a function that returns the square of a number.\n",
    "\n",
    "    - You learn how to use math with return values."
   ]
  },
  {
   "cell_type": "code",
   "execution_count": 8,
   "metadata": {},
   "outputs": [
    {
     "name": "stdout",
     "output_type": "stream",
     "text": [
      "16\n"
     ]
    }
   ],
   "source": [
    "def square(x):\n",
    "    return x ** 2\n",
    "\n",
    "result = square(4)\n",
    "print(result)"
   ]
  },
  {
   "cell_type": "markdown",
   "metadata": {},
   "source": [
    "Exercise 5) Default Parameter\n",
    "\n",
    "    - Create a function with a default parameter.\n",
    "\n",
    "    - If no argument is passed, a default value will be used."
   ]
  },
  {
   "cell_type": "code",
   "execution_count": 9,
   "metadata": {},
   "outputs": [
    {
     "name": "stdout",
     "output_type": "stream",
     "text": [
      "Hello, Luis. \n",
      "Hello, user. \n"
     ]
    }
   ],
   "source": [
    "def default(a = \"user\"):\n",
    "    print(f\"Hello, {a}. \")\n",
    "\n",
    "default(\"Luis\")\n",
    "default()\n",
    "\n"
   ]
  },
  {
   "cell_type": "markdown",
   "metadata": {},
   "source": [
    "Exercise 6)  Check even number\n",
    "\n",
    "    - Create a function that checks if a number is even.\n",
    "\n",
    "    - We'll use the module operator % to check if a number is divisible by 2."
   ]
  },
  {
   "cell_type": "code",
   "execution_count": 10,
   "metadata": {},
   "outputs": [
    {
     "name": "stdout",
     "output_type": "stream",
     "text": [
      "Even number: 2\n",
      "Odd number: 5\n",
      "Even number: 8\n"
     ]
    }
   ],
   "source": [
    "def even(i):\n",
    "    if i % 2 ==0:\n",
    "        print(f\"Even number: {i}\")\n",
    "    else:\n",
    "        print(f\"Odd number: {i}\")\n",
    "\n",
    "even(2)\n",
    "even(5)\n",
    "even(8)"
   ]
  },
  {
   "cell_type": "code",
   "execution_count": 11,
   "metadata": {},
   "outputs": [
    {
     "name": "stdout",
     "output_type": "stream",
     "text": [
      "False\n",
      "True\n"
     ]
    }
   ],
   "source": [
    "# option 2\n",
    "def is_even(n):\n",
    "    return n % 2 == 0\n",
    "\n",
    "print(is_even(3))\n",
    "print(is_even(4))"
   ]
  },
  {
   "cell_type": "markdown",
   "metadata": {},
   "source": [
    "Exercise 7) Factorial:\n",
    "\n",
    "    - Write a function that return the factorial of a number.\n",
    "\n",
    "    - The factorial of 5 (written 5!) is: 1x2x3x4x5 = 120"
   ]
  },
  {
   "cell_type": "code",
   "execution_count": 17,
   "metadata": {},
   "outputs": [
    {
     "name": "stdout",
     "output_type": "stream",
     "text": [
      "6\n",
      "120\n"
     ]
    }
   ],
   "source": [
    "def factorial(n):\n",
    "    result = 1\n",
    "\n",
    "    for i in range(2, n+1):\n",
    "        result *= i\n",
    "    return result\n",
    "\n",
    "print(factorial(3))\n",
    "print(factorial(5))"
   ]
  },
  {
   "cell_type": "markdown",
   "metadata": {},
   "source": [
    "Exercise 8) Sum all Arguments.\n",
    "\n",
    "    - Create a function that accepts any number of arguments and returns their sum.\n",
    "\n",
    "    - You'll user *args, which gathers all arguments into a tuple."
   ]
  },
  {
   "cell_type": "code",
   "execution_count": 18,
   "metadata": {},
   "outputs": [
    {
     "name": "stdout",
     "output_type": "stream",
     "text": [
      "12\n"
     ]
    }
   ],
   "source": [
    "def sum_all(*arg):\n",
    "    return sum(arg)\n",
    "\n",
    "print(sum_all(1,2,4,5))"
   ]
  },
  {
   "cell_type": "code",
   "execution_count": 19,
   "metadata": {},
   "outputs": [
    {
     "name": "stdout",
     "output_type": "stream",
     "text": [
      "1242\n"
     ]
    }
   ],
   "source": [
    "def all(*n):\n",
    "    return sum(n)\n",
    "\n",
    "print(all(10,100,1110,22))"
   ]
  },
  {
   "cell_type": "markdown",
   "metadata": {},
   "source": [
    "Exercise 9) Keyword Arguments\n",
    "\n",
    "    - Create a function that accepts keyword arguments and print them.\n",
    "\n",
    "    - Use **args to collect named arguments into a dictionary."
   ]
  },
  {
   "cell_type": "code",
   "execution_count": 20,
   "metadata": {},
   "outputs": [
    {
     "name": "stdout",
     "output_type": "stream",
     "text": [
      "name: Luis\n",
      "age: 29\n",
      "city: Hilversum\n",
      "man: True\n"
     ]
    }
   ],
   "source": [
    "def print_info(**details):\n",
    "    for key,value in details.items():\n",
    "        print(f\"{key}: {value}\")\n",
    "\n",
    "print_info(name = \"Luis\", age = 29, city = \"Hilversum\", man = True)\n",
    "\n"
   ]
  },
  {
   "cell_type": "markdown",
   "metadata": {},
   "source": [
    "Exercise 10) Reverse a String\n",
    "\n",
    "    - Create a function that reverses a string.\n",
    "\n",
    "    - You'll use string slicing ([::-1]) to reverse any word"
   ]
  },
  {
   "cell_type": "code",
   "execution_count": null,
   "metadata": {},
   "outputs": [
    {
     "name": "stdout",
     "output_type": "stream",
     "text": [
      "uoy era woh ,olleH\n"
     ]
    }
   ],
   "source": [
    "def reverse(s):\n",
    "    return s[::-1]\n",
    "\n",
    "print(reverse(\"Hello, how are you\"))"
   ]
  },
  {
   "cell_type": "markdown",
   "metadata": {},
   "source": [
    "Exercise 11) Find the Maximum of three numbers\n",
    "\n",
    "    - Write a function that returns the largest of three numbers\n",
    "\n",
    "    - We'll  use the built-im max() function to compare the three values."
   ]
  },
  {
   "cell_type": "code",
   "execution_count": 28,
   "metadata": {},
   "outputs": [
    {
     "name": "stdout",
     "output_type": "stream",
     "text": [
      "23.1\n"
     ]
    }
   ],
   "source": [
    "def max_number(a, b, c):\n",
    "    \n",
    "    return max(a, b, c)\n",
    "\n",
    "print(max_number(11.2,22.1,23.1))"
   ]
  },
  {
   "cell_type": "markdown",
   "metadata": {},
   "source": [
    "Exercise 12) Count Vowels in a string\n",
    "\n",
    "    - Write a function that counts how many vowels (a, e, i, o, u) are in a give string.\n",
    "\n",
    "    - Loop through the string, check each character, and count it if it's a vowel."
   ]
  },
  {
   "cell_type": "code",
   "execution_count": 31,
   "metadata": {},
   "outputs": [
    {
     "name": "stdout",
     "output_type": "stream",
     "text": [
      "4\n"
     ]
    }
   ],
   "source": [
    "def vowels(text):\n",
    "    count = 0\n",
    "    for char in text:\n",
    "        if char.lower() in \"aeiou\":\n",
    "            count  += 1\n",
    "    return count\n",
    "\n",
    "print(vowels(\"Hello Luis\"))"
   ]
  },
  {
   "cell_type": "markdown",
   "metadata": {},
   "source": [
    "Exercesi 13) Lamba Function to Multiply two numbers\n",
    "\n",
    "    - Create a lambda function that multiple twoo numbers.\n",
    "\n",
    "    - Lambda functions are small, anonymous functions used for simple tasks."
   ]
  },
  {
   "cell_type": "code",
   "execution_count": 32,
   "metadata": {},
   "outputs": [
    {
     "name": "stdout",
     "output_type": "stream",
     "text": [
      "6\n"
     ]
    }
   ],
   "source": [
    "multiply = lambda x, y: x*y\n",
    "\n",
    "print(multiply(3,2))"
   ]
  },
  {
   "cell_type": "markdown",
   "metadata": {},
   "source": [
    "Exercise 14) Palindrome checker\n",
    "\n",
    "    -  write a function that checks if a word is a palindrome (reads the same backward.)\n",
    "\n",
    "    - Use string slicing ([::-1]) to reverse the word and compare it to the original."
   ]
  },
  {
   "cell_type": "code",
   "execution_count": 33,
   "metadata": {},
   "outputs": [
    {
     "name": "stdout",
     "output_type": "stream",
     "text": [
      "True\n",
      "False\n"
     ]
    }
   ],
   "source": [
    "def reverse(word):\n",
    "    return word == word[::-1]\n",
    "\n",
    "print(reverse(\"madam\"))\n",
    "print(reverse(\"hello\"))"
   ]
  },
  {
   "cell_type": "markdown",
   "metadata": {},
   "source": [
    "Exercise 15) FIbonacci Sequence Generator\n",
    "\n",
    "    - Return th fibonacci sequence up to n terms\n",
    "\n",
    "    - Each number in the sequence is the sum of the two before it."
   ]
  },
  {
   "cell_type": "code",
   "execution_count": 34,
   "metadata": {},
   "outputs": [
    {
     "name": "stdout",
     "output_type": "stream",
     "text": [
      "[0, 1, 1, 2, 3, 5]\n"
     ]
    }
   ],
   "source": [
    "def fibbo(n):\n",
    "\n",
    "    sequence = [0, 1]\n",
    "\n",
    "    while len(sequence) < n:\n",
    "        sequence.append(sequence[-1] + sequence[-2])\n",
    "    return sequence[:n]\n",
    "\n",
    "print(fibbo(6))"
   ]
  },
  {
   "cell_type": "code",
   "execution_count": 1,
   "metadata": {},
   "outputs": [
    {
     "name": "stdout",
     "output_type": "stream",
     "text": [
      "<class 'dict'>\n"
     ]
    }
   ],
   "source": [
    "mi = {}\n",
    "print(type(mi))"
   ]
  },
  {
   "cell_type": "code",
   "execution_count": 3,
   "metadata": {},
   "outputs": [
    {
     "name": "stdout",
     "output_type": "stream",
     "text": [
      "{1, 2, 4}\n"
     ]
    }
   ],
   "source": [
    "mi = {1,1,2,4}\n",
    "print(mi)"
   ]
  }
 ],
 "metadata": {
  "kernelspec": {
   "display_name": "Python 3",
   "language": "python",
   "name": "python3"
  },
  "language_info": {
   "codemirror_mode": {
    "name": "ipython",
    "version": 3
   },
   "file_extension": ".py",
   "mimetype": "text/x-python",
   "name": "python",
   "nbconvert_exporter": "python",
   "pygments_lexer": "ipython3",
   "version": "3.13.2"
  }
 },
 "nbformat": 4,
 "nbformat_minor": 2
}
